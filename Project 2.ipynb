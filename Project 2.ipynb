{
 "cells": [
  {
   "cell_type": "markdown",
   "metadata": {},
   "source": [
    "# Project 2 - Prediciting Release Year of Songs on Spotify"
   ]
  },
  {
   "cell_type": "markdown",
   "metadata": {},
   "source": [
    "### By: Sam Busane & Andrew Cline"
   ]
  },
  {
   "cell_type": "markdown",
   "metadata": {},
   "source": [
    "## Introduction"
   ]
  },
  {
   "cell_type": "markdown",
   "metadata": {},
   "source": [
    "From Kaggle we have a data set that holds the catalog of songs from the music streamin app Spotify. The list of songs has some that date back to the 1940's. The data set also holds information about each song such as dancibility, tempo, acousticness, and popularity as well as others. Using these traits we want to build a model that can accurately predict a the decade in which a song was released. "
   ]
  },
  {
   "cell_type": "code",
   "execution_count": 2,
   "metadata": {},
   "outputs": [],
   "source": [
    "import numpy as np\n",
    "import pandas as pd\n",
    "import matplotlib.cm as cm\n",
    "import matplotlib.pyplot as plt\n",
    "import seaborn as sns\n",
    "import graphviz\n",
    "from sklearn.cluster import KMeans\n",
    "from sklearn.metrics import silhouette_samples, silhouette_score\n",
    "from sklearn.model_selection import train_test_split, cross_val_score, GridSearchCV\n",
    "from sklearn.model_selection import learning_curve\n",
    "from sklearn.linear_model import LinearRegression\n",
    "from sklearn.tree import DecisionTreeRegressor\n",
    "from sklearn.neighbors import KNeighborsRegressor\n",
    "from sklearn.tree import export_graphviz\n",
    "from scipy.stats import zscore\n",
    "from scipy.cluster.hierarchy import dendrogram, linkage"
   ]
  },
  {
   "cell_type": "code",
   "execution_count": 3,
   "metadata": {},
   "outputs": [],
   "source": [
    "df = pd.read_csv('data.csv')"
   ]
  },
  {
   "cell_type": "markdown",
   "metadata": {},
   "source": [
    "## Initial Exploration"
   ]
  },
  {
   "cell_type": "markdown",
   "metadata": {},
   "source": [
    "This dataset is quite large since it encompasses whole of Spotify's song library. Since the goal is to predict the year a song came out it is important to look for variables that would intuitively be tied to changes over time."
   ]
  },
  {
   "cell_type": "code",
   "execution_count": 4,
   "metadata": {},
   "outputs": [
    {
     "name": "stdout",
     "output_type": "stream",
     "text": [
      "<class 'pandas.core.frame.DataFrame'>\n",
      "RangeIndex: 170653 entries, 0 to 170652\n",
      "Data columns (total 19 columns):\n",
      " #   Column            Non-Null Count   Dtype  \n",
      "---  ------            --------------   -----  \n",
      " 0   valence           170653 non-null  float64\n",
      " 1   year              170653 non-null  int64  \n",
      " 2   acousticness      170653 non-null  float64\n",
      " 3   artists           170653 non-null  object \n",
      " 4   danceability      170653 non-null  float64\n",
      " 5   duration_ms       170653 non-null  int64  \n",
      " 6   energy            170653 non-null  float64\n",
      " 7   explicit          170653 non-null  int64  \n",
      " 8   id                170653 non-null  object \n",
      " 9   instrumentalness  170653 non-null  float64\n",
      " 10  key               170653 non-null  int64  \n",
      " 11  liveness          170653 non-null  float64\n",
      " 12  loudness          170653 non-null  float64\n",
      " 13  mode              170653 non-null  int64  \n",
      " 14  name              170653 non-null  object \n",
      " 15  popularity        170653 non-null  int64  \n",
      " 16  release_date      170653 non-null  object \n",
      " 17  speechiness       170653 non-null  float64\n",
      " 18  tempo             170653 non-null  float64\n",
      "dtypes: float64(9), int64(6), object(4)\n",
      "memory usage: 24.7+ MB\n"
     ]
    }
   ],
   "source": [
    "df.info()"
   ]
  },
  {
   "cell_type": "markdown",
   "metadata": {},
   "source": [
    "Looking at the dataframe info it shows that almost all of the data in this dataset is numeric, save for explicit, release date, name, artists, and id. Some of the columns are not relevant to the predictions that are going to be made, so they will be removed later."
   ]
  },
  {
   "cell_type": "code",
   "execution_count": 5,
   "metadata": {},
   "outputs": [
    {
     "data": {
      "text/plain": [
       "valence             0\n",
       "year                0\n",
       "acousticness        0\n",
       "artists             0\n",
       "danceability        0\n",
       "duration_ms         0\n",
       "energy              0\n",
       "explicit            0\n",
       "id                  0\n",
       "instrumentalness    0\n",
       "key                 0\n",
       "liveness            0\n",
       "loudness            0\n",
       "mode                0\n",
       "name                0\n",
       "popularity          0\n",
       "release_date        0\n",
       "speechiness         0\n",
       "tempo               0\n",
       "dtype: int64"
      ]
     },
     "execution_count": 5,
     "metadata": {},
     "output_type": "execute_result"
    }
   ],
   "source": [
    "df.isna().sum()"
   ]
  },
  {
   "cell_type": "markdown",
   "metadata": {},
   "source": [
    "Since this dataset was obtained from Kaggle the expectation is that it would be very clean and this dataset is no exception. There are no NA value, so there is no cleaning needed."
   ]
  },
  {
   "cell_type": "markdown",
   "metadata": {},
   "source": [
    "## Preprocessing"
   ]
  },
  {
   "cell_type": "markdown",
   "metadata": {},
   "source": [
    "The dataset contains some values that would not help develop a model. These values would be artists, id, name, and release_date since they are purely identifying features of a song and would be unhelpful for developing a model. So they should be removed from the dataset. "
   ]
  },
  {
   "cell_type": "code",
   "execution_count": 6,
   "metadata": {},
   "outputs": [],
   "source": [
    "df.drop(['id', 'release_date', 'name', 'artists'], axis=1, inplace=True)"
   ]
  },
  {
   "cell_type": "markdown",
   "metadata": {},
   "source": [
    "Recorded music is a relatively new advent and it was not widely popular until a few decades after its release. So there may be skewed data the farther back in time that the data goes. To make visualization easier the songs will be binned together by decade and added to a new column."
   ]
  },
  {
   "cell_type": "code",
   "execution_count": 7,
   "metadata": {},
   "outputs": [],
   "source": [
    "df['decade'] = pd.cut(df['year'], bins=[1920,1929,1939,1949,1959,1969,1979,1989,1999,2009,2029], labels=['20s', '30s','40s',\n",
    "                                                                                                        '50s','60s','70s',\n",
    "                                                                                                        '80s', '90s', '2000s',\n",
    "                                                                                                        '2010s'])"
   ]
  },
  {
   "cell_type": "code",
   "execution_count": 8,
   "metadata": {},
   "outputs": [
    {
     "data": {
      "image/png": "[encoded data removed]",
      "text/plain": [
       "<Figure size 432x288 with 1 Axes>"
      ]
     },
     "metadata": {
      "needs_background": "light"
     },
     "output_type": "display_data"
    }
   ],
   "source": [
    "df['decade'].value_counts().plot.bar()\n",
    "plt.title('Distribution of songs by decade')\n",
    "plt.xlabel('Decade')\n",
    "plt.ylabel('Amount');"
   ]
  },
  {
   "cell_type": "markdown",
   "metadata": {},
   "source": [
    "So there is clearly an under representation of the data before 1950. So it would be good for developing the model if those data poins were dropped so that they do not skew the model."
   ]
  },
  {
   "cell_type": "code",
   "execution_count": 9,
   "metadata": {},
   "outputs": [],
   "source": [
    "df = df[df['year'] >= 1950]\n",
    "df['decade'] = pd.cut(df['year'], bins=[1949,1959,1969,1979,1989,1999,2009,2029], labels=['50s','60s','70s',\n",
    "                                                                                          '80s', '90s', '2000s',\n",
    "                                                                                          '2010s'])"
   ]
  },
  {
   "cell_type": "markdown",
   "metadata": {},
   "source": [
    "## Visualization "
   ]
  },
  {
   "cell_type": "markdown",
   "metadata": {},
   "source": [
    "When developing the model strongly correlated values should be avoided because the correlation may be overrepresented in the model and skew the predictions."
   ]
  },
  {
   "cell_type": "code",
   "execution_count": 10,
   "metadata": {},
   "outputs": [
    {
     "data": {
      "text/plain": [
       "<matplotlib.axes._subplots.AxesSubplot at 0x15d08dce5f8>"
      ]
     },
     "execution_count": 10,
     "metadata": {},
     "output_type": "execute_result"
    },
    {
     "data": {
      "image/png": "[encoded data removed]",
      "text/plain": [
       "<Figure size 432x288 with 2 Axes>"
      ]
     },
     "metadata": {
      "needs_background": "light"
     },
     "output_type": "display_data"
    }
   ],
   "source": [
    "corr = df.corr()\n",
    "sns.heatmap(corr, xticklabels=corr.columns, yticklabels=corr.columns)"
   ]
  },
  {
   "cell_type": "markdown",
   "metadata": {},
   "source": [
    "Acousticness is very strongly correlated to a lot of values. It would be imparative to include it in the final model because it represents so much in terms of correlation."
   ]
  },
  {
   "cell_type": "markdown",
   "metadata": {},
   "source": [
    "Since most people group music by decade it would useful to see changes over the decades in the various numeric values of the dataset."
   ]
  },
  {
   "cell_type": "code",
   "execution_count": 11,
   "metadata": {},
   "outputs": [
    {
     "data": {
      "image/png": "[encoded data removed]",
      "text/plain": [
       "<Figure size 432x288 with 1 Axes>"
      ]
     },
     "metadata": {
      "needs_background": "light"
     },
     "output_type": "display_data"
    }
   ],
   "source": [
    "df.groupby('decade')['danceability'].mean().plot.bar()\n",
    "plt.title('Average Danceabilty by Decade')\n",
    "plt.xlabel('Decade')\n",
    "plt.ylabel('Danceability');"
   ]
  },
  {
   "cell_type": "markdown",
   "metadata": {},
   "source": [
    "The graph shows that there is a small trend of danceability increasing with time. Due to this value having a clear change over time it would be good to include in the model as a predictor."
   ]
  },
  {
   "cell_type": "markdown",
   "metadata": {},
   "source": []
  },
  {
   "cell_type": "code",
   "execution_count": 12,
   "metadata": {},
   "outputs": [
    {
     "data": {
      "image/png": "[encoded data removed]",
      "text/plain": [
       "<Figure size 432x288 with 1 Axes>"
      ]
     },
     "metadata": {
      "needs_background": "light"
     },
     "output_type": "display_data"
    }
   ],
   "source": [
    "df.groupby('decade')['energy'].mean().plot.bar()\n",
    "plt.title('Average Energy by Decade')\n",
    "plt.xlabel('Decade')\n",
    "plt.ylabel('Energy');"
   ]
  },
  {
   "cell_type": "markdown",
   "metadata": {},
   "source": [
    "An odd trend is shown by this graph. Over time there is an increase in energy until the 80s then the value again stagnates like acousticness. Energy represents how fast, loud, and noisy the song is, this trend could be due to the proliferation and development of rock over time. As rock progressed it generally got more and more fast and noisy. Another value to consider for the model."
   ]
  },
  {
   "cell_type": "code",
   "execution_count": 13,
   "metadata": {},
   "outputs": [
    {
     "data": {
      "image/png": "[encoded data removed]",
      "text/plain": [
       "<Figure size 432x288 with 1 Axes>"
      ]
     },
     "metadata": {
      "needs_background": "light"
     },
     "output_type": "display_data"
    }
   ],
   "source": [
    "tbl = df.groupby('decade')['explicit'].apply(lambda x: (x == 1).mean())\n",
    "tbl.plot.bar()\n",
    "plt.title('Fraction of explicit songs by decade')\n",
    "plt.xlabel('Decade')\n",
    "plt.ylabel('Proportion of Explicit Songs');"
   ]
  },
  {
   "cell_type": "markdown",
   "metadata": {},
   "source": [
    "The graph showcases another intuitive trend. The trend of music getting more explicit also coincides with the rise of rap, which tends to be more explicit than other genre. This could a helpful predictor since it again changes over time."
   ]
  },
  {
   "cell_type": "code",
   "execution_count": 14,
   "metadata": {},
   "outputs": [
    {
     "data": {
      "image/png": "[encoded data removed]",
      "text/plain": [
       "<Figure size 432x288 with 1 Axes>"
      ]
     },
     "metadata": {
      "needs_background": "light"
     },
     "output_type": "display_data"
    }
   ],
   "source": [
    "sns.violinplot(x='decade', y='acousticness', data=df)\n",
    "plt.title('Distribution of Acousticness by Decade')\n",
    "plt.xlabel('Decade')\n",
    "plt.ylabel('Acousticness');"
   ]
  },
  {
   "cell_type": "markdown",
   "metadata": {},
   "source": [
    "This graph makes sense intuitvively since electronically produced music is a relatively newer type of music, but the graph does show a kind of stagnation of acousticness from the 80s to the 2010s. But since this value is tightly related to other values it should be included in the model."
   ]
  },
  {
   "cell_type": "markdown",
   "metadata": {},
   "source": [
    "## Building the Model"
   ]
  },
  {
   "cell_type": "code",
   "execution_count": 15,
   "metadata": {},
   "outputs": [],
   "source": [
    "predictors = ['valence', 'acousticness', 'danceability','explicit', 'instrumentalness', \n",
    "              'speechiness', 'popularity', 'liveness', 'mode', 'tempo']\n",
    "X = df[predictors].values\n",
    "y = df['year'].values\n",
    "\n",
    "X_train, X_test, y_train, y_test = train_test_split(X, y, test_size=0.25, random_state=42)"
   ]
  },
  {
   "cell_type": "markdown",
   "metadata": {},
   "source": [
    "This dataset came with a lot of features for each song so there are plenty of predictors to choose from when it come to building the model. But using all the features of the dataset is not very useful especially the ones that did not seem to change with time such as duration_ms. "
   ]
  },
  {
   "cell_type": "markdown",
   "metadata": {},
   "source": [
    "## The Models "
   ]
  },
  {
   "cell_type": "markdown",
   "metadata": {},
   "source": [
    "Since the predictions that are going to be made are going to be numeric, the algorithms that will be used are forms of regression. The algorithms that were chosen were Decision Tree Regression, Linear Regression, and KNN Regression. They will be compared using RMSE and after the initial development forward feature selection will be used to see if the model improves."
   ]
  },
  {
   "cell_type": "code",
   "execution_count": 16,
   "metadata": {},
   "outputs": [],
   "source": [
    "def forward_feature_selection(X_train,y_train,model):\n",
    "        remaining = list(range(X_train.shape[1]))\n",
    "        selected = []\n",
    "        n = 10\n",
    "        while len(selected) < n:\n",
    "            rmse_min = 1e7,\n",
    "            for i in remaining:\n",
    "                X_i = X_train[:,selected+[i]]\n",
    "                scores = cross_val_score(model, X_i, y_train, scoring='neg_mean_squared_error', cv=10)\n",
    "                rmse = np.sqrt(-scores.mean())\n",
    "                if rmse < rmse_min:\n",
    "                    rmse_min = rmse\n",
    "                    i_min = i\n",
    "            remaining.remove(i_min)\n",
    "            selected.append(i_min)\n",
    "            print('num features: {}; rmse: {:.2f}'.format(len(selected), rmse_min))\n",
    "        return selected"
   ]
  },
  {
   "cell_type": "markdown",
   "metadata": {},
   "source": [
    "Generalized forward feature selection method, the model and training data can be passed in and it will return the indexes of the best features in the predictors list."
   ]
  },
  {
   "cell_type": "code",
   "execution_count": 17,
   "metadata": {},
   "outputs": [
    {
     "name": "stdout",
     "output_type": "stream",
     "text": [
      "Baseline RMSE: 20.47\n"
     ]
    }
   ],
   "source": [
    "baseline = df['year'].mean()\n",
    "baselineRMSE = np.sqrt(((df['year'] - baseline)**2).mean())\n",
    "print('Baseline RMSE: {:.2f}'.format(baselineRMSE))"
   ]
  },
  {
   "cell_type": "markdown",
   "metadata": {},
   "source": [
    "A baseline RMSE that is just the RMSE of the mean values will help compare the developed models and see if the model is improving."
   ]
  },
  {
   "cell_type": "markdown",
   "metadata": {},
   "source": [
    "### Decision Tree Regressor"
   ]
  },
  {
   "cell_type": "code",
   "execution_count": 24,
   "metadata": {},
   "outputs": [],
   "source": [
    "treereg = DecisionTreeRegressor(max_depth=3)\n",
    "treereg.fit(X_train, y_train)\n",
    "y_predict = treereg.predict(X_test)"
   ]
  },
  {
   "cell_type": "code",
   "execution_count": 25,
   "metadata": {},
   "outputs": [
    {
     "name": "stdout",
     "output_type": "stream",
     "text": [
      "13.566303551328325\n"
     ]
    }
   ],
   "source": [
    "scores = -cross_val_score(treereg, X, y, scoring='neg_mean_squared_error', cv=10)\n",
    "\n",
    "scores.mean()\n",
    "rmse = np.sqrt(scores.mean()).mean()\n",
    "print(rmse)"
   ]
  },
  {
   "cell_type": "markdown",
   "metadata": {},
   "source": [
    "Decision Tree Regression with all selected features produces an RMSE of 13.57, which is better than the baseline RMSE. This model could be improved through forward feature selection."
   ]
  },
  {
   "cell_type": "code",
   "execution_count": 26,
   "metadata": {},
   "outputs": [
    {
     "name": "stdout",
     "output_type": "stream",
     "text": [
      "num features: 1; rmse: 12.66\n",
      "num features: 2; rmse: 12.34\n",
      "num features: 3; rmse: 12.27\n",
      "num features: 4; rmse: 12.27\n",
      "num features: 5; rmse: 12.27\n",
      "num features: 6; rmse: 12.27\n",
      "num features: 7; rmse: 12.27\n",
      "num features: 8; rmse: 12.27\n",
      "num features: 9; rmse: 12.27\n",
      "num features: 10; rmse: 12.27\n",
      "['popularity', 'acousticness', 'explicit', 'valence', 'danceability', 'instrumentalness', 'speechiness', 'liveness', 'mode', 'tempo']\n"
     ]
    }
   ],
   "source": [
    "best_array = forward_feature_selection(X_train, y_train, DecisionTreeRegressor(max_depth=3))\n",
    "feature_names = []\n",
    "for i in best_array:\n",
    "    feature_names.append(predictors[i])\n",
    "print(feature_names)"
   ]
  },
  {
   "cell_type": "markdown",
   "metadata": {},
   "source": [
    "The RMSE with forward feature shows that 3 features are really contributing to the predicitons which are popularity, acousticness, and explicit and adding more features does not increase the RMSE past 12.27."
   ]
  },
  {
   "cell_type": "code",
   "execution_count": 27,
   "metadata": {},
   "outputs": [
    {
     "data": {
      "text/plain": [
       "<matplotlib.axes._subplots.AxesSubplot at 0x15d03ebd438>"
      ]
     },
     "execution_count": 27,
     "metadata": {},
     "output_type": "execute_result"
    },
    {
     "data": {
      "image/png": "[encoded data removed]",
      "text/plain": [
       "<Figure size 432x288 with 1 Axes>"
      ]
     },
     "metadata": {
      "needs_background": "light"
     },
     "output_type": "display_data"
    }
   ],
   "source": [
    "sns.scatterplot(x=y_predict, y=y_test, s=20)"
   ]
  },
  {
   "cell_type": "markdown",
   "metadata": {},
   "source": [
    "This graph plots predicted versus actual values and shows that the model has issues with prediciting years before 1960 and between 1980 and 1990. "
   ]
  },
  {
   "cell_type": "code",
   "execution_count": 28,
   "metadata": {},
   "outputs": [
    {
     "data": {
      "image/svg+xml": [
       "<?xml version=\"1.0\" encoding=\"UTF-8\" standalone=\"no\"?>\r\n",
       "<!DOCTYPE svg PUBLIC \"-//W3C//DTD SVG 1.1//EN\"\r\n",
       " \"http://www.w3.org/Graphics/SVG/1.1/DTD/svg11.dtd\">\r\n",
       "<!-- Generated by graphviz version 2.38.0 (20140413.2041)\r\n",
       " -->\r\n",
       "<!-- Title: Tree Pages: 1 -->\r\n",
       "<svg width=\"1141pt\" height=\"373pt\"\r\n",
       " viewBox=\"0.00 0.00 1141.00 373.00\" xmlns=\"http://www.w3.org/2000/svg\" xmlns:xlink=\"http://www.w3.org/1999/xlink\">\r\n",
       "<g id=\"graph0\" class=\"graph\" transform=\"scale(1 1) rotate(0) translate(4 369)\">\r\n",
       "<title>Tree</title>\r\n",
       "<polygon fill=\"white\" stroke=\"none\" points=\"-4,4 -4,-369 1137,-369 1137,4 -4,4\"/>\r\n",
       "<!-- 0 -->\r\n",
       "<g id=\"node1\" class=\"node\"><title>0</title>\r\n",
       "<path fill=\"#f2c09c\" stroke=\"black\" d=\"M621.5,-365C621.5,-365 509.5,-365 509.5,-365 503.5,-365 497.5,-359 497.5,-353 497.5,-353 497.5,-309 497.5,-309 497.5,-303 503.5,-297 509.5,-297 509.5,-297 621.5,-297 621.5,-297 627.5,-297 633.5,-303 633.5,-309 633.5,-309 633.5,-353 633.5,-353 633.5,-359 627.5,-365 621.5,-365\"/>\r\n",
       "<text text-anchor=\"middle\" x=\"565.5\" y=\"-349.8\" font-family=\"Helvetica,sans-Serif\" font-size=\"14.00\">popularity &lt;= 35.5</text>\r\n",
       "<text text-anchor=\"middle\" x=\"565.5\" y=\"-334.8\" font-family=\"Helvetica,sans-Serif\" font-size=\"14.00\">mse = 418.69</text>\r\n",
       "<text text-anchor=\"middle\" x=\"565.5\" y=\"-319.8\" font-family=\"Helvetica,sans-Serif\" font-size=\"14.00\">samples = 100.0%</text>\r\n",
       "<text text-anchor=\"middle\" x=\"565.5\" y=\"-304.8\" font-family=\"Helvetica,sans-Serif\" font-size=\"14.00\">value = 1985.07</text>\r\n",
       "</g>\r\n",
       "<!-- 1 -->\r\n",
       "<g id=\"node2\" class=\"node\"><title>1</title>\r\n",
       "<path fill=\"#fae5d5\" stroke=\"black\" d=\"M512.5,-261C512.5,-261 406.5,-261 406.5,-261 400.5,-261 394.5,-255 394.5,-249 394.5,-249 394.5,-205 394.5,-205 394.5,-199 400.5,-193 406.5,-193 406.5,-193 512.5,-193 512.5,-193 518.5,-193 524.5,-199 524.5,-205 524.5,-205 524.5,-249 524.5,-249 524.5,-255 518.5,-261 512.5,-261\"/>\r\n",
       "<text text-anchor=\"middle\" x=\"459.5\" y=\"-245.8\" font-family=\"Helvetica,sans-Serif\" font-size=\"14.00\">popularity &lt;= 20.5</text>\r\n",
       "<text text-anchor=\"middle\" x=\"459.5\" y=\"-230.8\" font-family=\"Helvetica,sans-Serif\" font-size=\"14.00\">mse = 195.03</text>\r\n",
       "<text text-anchor=\"middle\" x=\"459.5\" y=\"-215.8\" font-family=\"Helvetica,sans-Serif\" font-size=\"14.00\">samples = 43.4%</text>\r\n",
       "<text text-anchor=\"middle\" x=\"459.5\" y=\"-200.8\" font-family=\"Helvetica,sans-Serif\" font-size=\"14.00\">value = 1969.08</text>\r\n",
       "</g>\r\n",
       "<!-- 0&#45;&gt;1 -->\r\n",
       "<g id=\"edge1\" class=\"edge\"><title>0&#45;&gt;1</title>\r\n",
       "<path fill=\"none\" stroke=\"black\" d=\"M531.085,-296.884C521.643,-287.798 511.3,-277.845 501.485,-268.4\"/>\r\n",
       "<polygon fill=\"black\" stroke=\"black\" points=\"503.738,-265.711 494.105,-261.299 498.884,-270.755 503.738,-265.711\"/>\r\n",
       "<text text-anchor=\"middle\" x=\"494.586\" y=\"-282.595\" font-family=\"Helvetica,sans-Serif\" font-size=\"14.00\">True</text>\r\n",
       "</g>\r\n",
       "<!-- 8 -->\r\n",
       "<g id=\"node9\" class=\"node\"><title>8</title>\r\n",
       "<path fill=\"#eca471\" stroke=\"black\" d=\"M725.5,-261C725.5,-261 619.5,-261 619.5,-261 613.5,-261 607.5,-255 607.5,-249 607.5,-249 607.5,-205 607.5,-205 607.5,-199 613.5,-193 619.5,-193 619.5,-193 725.5,-193 725.5,-193 731.5,-193 737.5,-199 737.5,-205 737.5,-205 737.5,-249 737.5,-249 737.5,-255 731.5,-261 725.5,-261\"/>\r\n",
       "<text text-anchor=\"middle\" x=\"672.5\" y=\"-245.8\" font-family=\"Helvetica,sans-Serif\" font-size=\"14.00\">popularity &lt;= 50.5</text>\r\n",
       "<text text-anchor=\"middle\" x=\"672.5\" y=\"-230.8\" font-family=\"Helvetica,sans-Serif\" font-size=\"14.00\">mse = 244.38</text>\r\n",
       "<text text-anchor=\"middle\" x=\"672.5\" y=\"-215.8\" font-family=\"Helvetica,sans-Serif\" font-size=\"14.00\">samples = 56.6%</text>\r\n",
       "<text text-anchor=\"middle\" x=\"672.5\" y=\"-200.8\" font-family=\"Helvetica,sans-Serif\" font-size=\"14.00\">value = 1997.31</text>\r\n",
       "</g>\r\n",
       "<!-- 0&#45;&gt;8 -->\r\n",
       "<g id=\"edge8\" class=\"edge\"><title>0&#45;&gt;8</title>\r\n",
       "<path fill=\"none\" stroke=\"black\" d=\"M600.24,-296.884C609.771,-287.798 620.211,-277.845 630.119,-268.4\"/>\r\n",
       "<polygon fill=\"black\" stroke=\"black\" points=\"632.745,-270.733 637.568,-261.299 627.915,-265.666 632.745,-270.733\"/>\r\n",
       "<text text-anchor=\"middle\" x=\"636.97\" y=\"-282.592\" font-family=\"Helvetica,sans-Serif\" font-size=\"14.00\">False</text>\r\n",
       "</g>\r\n",
       "<!-- 2 -->\r\n",
       "<g id=\"node3\" class=\"node\"><title>2</title>\r\n",
       "<path fill=\"#fefbf8\" stroke=\"black\" d=\"M265.5,-157C265.5,-157 137.5,-157 137.5,-157 131.5,-157 125.5,-151 125.5,-145 125.5,-145 125.5,-101 125.5,-101 125.5,-95 131.5,-89 137.5,-89 137.5,-89 265.5,-89 265.5,-89 271.5,-89 277.5,-95 277.5,-101 277.5,-101 277.5,-145 277.5,-145 277.5,-151 271.5,-157 265.5,-157\"/>\r\n",
       "<text text-anchor=\"middle\" x=\"201.5\" y=\"-141.8\" font-family=\"Helvetica,sans-Serif\" font-size=\"14.00\">acousticness &lt;= 0.25</text>\r\n",
       "<text text-anchor=\"middle\" x=\"201.5\" y=\"-126.8\" font-family=\"Helvetica,sans-Serif\" font-size=\"14.00\">mse = 153.75</text>\r\n",
       "<text text-anchor=\"middle\" x=\"201.5\" y=\"-111.8\" font-family=\"Helvetica,sans-Serif\" font-size=\"14.00\">samples = 17.7%</text>\r\n",
       "<text text-anchor=\"middle\" x=\"201.5\" y=\"-96.8\" font-family=\"Helvetica,sans-Serif\" font-size=\"14.00\">value = 1959.41</text>\r\n",
       "</g>\r\n",
       "<!-- 1&#45;&gt;2 -->\r\n",
       "<g id=\"edge2\" class=\"edge\"><title>1&#45;&gt;2</title>\r\n",
       "<path fill=\"none\" stroke=\"black\" d=\"M394.396,-200.261C361.921,-187.422 322.218,-171.726 287.292,-157.918\"/>\r\n",
       "<polygon fill=\"black\" stroke=\"black\" points=\"288.165,-154.499 277.578,-154.077 285.591,-161.009 288.165,-154.499\"/>\r\n",
       "</g>\r\n",
       "<!-- 5 -->\r\n",
       "<g id=\"node6\" class=\"node\"><title>5</title>\r\n",
       "<path fill=\"#f6d5be\" stroke=\"black\" d=\"M523.5,-157C523.5,-157 395.5,-157 395.5,-157 389.5,-157 383.5,-151 383.5,-145 383.5,-145 383.5,-101 383.5,-101 383.5,-95 389.5,-89 395.5,-89 395.5,-89 523.5,-89 523.5,-89 529.5,-89 535.5,-95 535.5,-101 535.5,-101 535.5,-145 535.5,-145 535.5,-151 529.5,-157 523.5,-157\"/>\r\n",
       "<text text-anchor=\"middle\" x=\"459.5\" y=\"-141.8\" font-family=\"Helvetica,sans-Serif\" font-size=\"14.00\">acousticness &lt;= 0.47</text>\r\n",
       "<text text-anchor=\"middle\" x=\"459.5\" y=\"-126.8\" font-family=\"Helvetica,sans-Serif\" font-size=\"14.00\">mse = 114.21</text>\r\n",
       "<text text-anchor=\"middle\" x=\"459.5\" y=\"-111.8\" font-family=\"Helvetica,sans-Serif\" font-size=\"14.00\">samples = 25.6%</text>\r\n",
       "<text text-anchor=\"middle\" x=\"459.5\" y=\"-96.8\" font-family=\"Helvetica,sans-Serif\" font-size=\"14.00\">value = 1975.77</text>\r\n",
       "</g>\r\n",
       "<!-- 1&#45;&gt;5 -->\r\n",
       "<g id=\"edge5\" class=\"edge\"><title>1&#45;&gt;5</title>\r\n",
       "<path fill=\"none\" stroke=\"black\" d=\"M459.5,-192.884C459.5,-184.778 459.5,-175.982 459.5,-167.472\"/>\r\n",
       "<polygon fill=\"black\" stroke=\"black\" points=\"463,-167.299 459.5,-157.299 456,-167.299 463,-167.299\"/>\r\n",
       "</g>\r\n",
       "<!-- 3 -->\r\n",
       "<g id=\"node4\" class=\"node\"><title>3</title>\r\n",
       "<path fill=\"#f3c6a5\" stroke=\"black\" d=\"M107,-53C107,-53 12,-53 12,-53 6,-53 -7.10543e-015,-47 -7.10543e-015,-41 -7.10543e-015,-41 -7.10543e-015,-12 -7.10543e-015,-12 -7.10543e-015,-6 6,-0 12,-0 12,-0 107,-0 107,-0 113,-0 119,-6 119,-12 119,-12 119,-41 119,-41 119,-47 113,-53 107,-53\"/>\r\n",
       "<text text-anchor=\"middle\" x=\"59.5\" y=\"-37.8\" font-family=\"Helvetica,sans-Serif\" font-size=\"14.00\">mse = 649.65</text>\r\n",
       "<text text-anchor=\"middle\" x=\"59.5\" y=\"-22.8\" font-family=\"Helvetica,sans-Serif\" font-size=\"14.00\">samples = 1.4%</text>\r\n",
       "<text text-anchor=\"middle\" x=\"59.5\" y=\"-7.8\" font-family=\"Helvetica,sans-Serif\" font-size=\"14.00\">value = 1982.72</text>\r\n",
       "</g>\r\n",
       "<!-- 2&#45;&gt;3 -->\r\n",
       "<g id=\"edge3\" class=\"edge\"><title>2&#45;&gt;3</title>\r\n",
       "<path fill=\"none\" stroke=\"black\" d=\"M151.835,-88.9485C137.127,-79.1601 121.072,-68.4756 106.535,-58.8015\"/>\r\n",
       "<polygon fill=\"black\" stroke=\"black\" points=\"108.437,-55.8632 98.1731,-53.2367 104.559,-61.6907 108.437,-55.8632\"/>\r\n",
       "</g>\r\n",
       "<!-- 4 -->\r\n",
       "<g id=\"node5\" class=\"node\"><title>4</title>\r\n",
       "<path fill=\"#ffffff\" stroke=\"black\" d=\"M253.5,-53C253.5,-53 149.5,-53 149.5,-53 143.5,-53 137.5,-47 137.5,-41 137.5,-41 137.5,-12 137.5,-12 137.5,-6 143.5,-0 149.5,-0 149.5,-0 253.5,-0 253.5,-0 259.5,-0 265.5,-6 265.5,-12 265.5,-12 265.5,-41 265.5,-41 265.5,-47 259.5,-53 253.5,-53\"/>\r\n",
       "<text text-anchor=\"middle\" x=\"201.5\" y=\"-37.8\" font-family=\"Helvetica,sans-Serif\" font-size=\"14.00\">mse = 61.67</text>\r\n",
       "<text text-anchor=\"middle\" x=\"201.5\" y=\"-22.8\" font-family=\"Helvetica,sans-Serif\" font-size=\"14.00\">samples = 16.3%</text>\r\n",
       "<text text-anchor=\"middle\" x=\"201.5\" y=\"-7.8\" font-family=\"Helvetica,sans-Serif\" font-size=\"14.00\">value = 1957.43</text>\r\n",
       "</g>\r\n",
       "<!-- 2&#45;&gt;4 -->\r\n",
       "<g id=\"edge4\" class=\"edge\"><title>2&#45;&gt;4</title>\r\n",
       "<path fill=\"none\" stroke=\"black\" d=\"M201.5,-88.9485C201.5,-80.7153 201.5,-71.848 201.5,-63.4814\"/>\r\n",
       "<polygon fill=\"black\" stroke=\"black\" points=\"205,-63.2367 201.5,-53.2367 198,-63.2367 205,-63.2367\"/>\r\n",
       "</g>\r\n",
       "<!-- 6 -->\r\n",
       "<g id=\"node7\" class=\"node\"><title>6</title>\r\n",
       "<path fill=\"#f5cdb0\" stroke=\"black\" d=\"M399.5,-53C399.5,-53 295.5,-53 295.5,-53 289.5,-53 283.5,-47 283.5,-41 283.5,-41 283.5,-12 283.5,-12 283.5,-6 289.5,-0 295.5,-0 295.5,-0 399.5,-0 399.5,-0 405.5,-0 411.5,-6 411.5,-12 411.5,-12 411.5,-41 411.5,-41 411.5,-47 405.5,-53 399.5,-53\"/>\r\n",
       "<text text-anchor=\"middle\" x=\"347.5\" y=\"-37.8\" font-family=\"Helvetica,sans-Serif\" font-size=\"14.00\">mse = 82.58</text>\r\n",
       "<text text-anchor=\"middle\" x=\"347.5\" y=\"-22.8\" font-family=\"Helvetica,sans-Serif\" font-size=\"14.00\">samples = 13.6%</text>\r\n",
       "<text text-anchor=\"middle\" x=\"347.5\" y=\"-7.8\" font-family=\"Helvetica,sans-Serif\" font-size=\"14.00\">value = 1979.59</text>\r\n",
       "</g>\r\n",
       "<!-- 5&#45;&gt;6 -->\r\n",
       "<g id=\"edge6\" class=\"edge\"><title>5&#45;&gt;6</title>\r\n",
       "<path fill=\"none\" stroke=\"black\" d=\"M420.328,-88.9485C409.16,-79.526 397.009,-69.2731 385.889,-59.8906\"/>\r\n",
       "<polygon fill=\"black\" stroke=\"black\" points=\"387.903,-57.0104 378.003,-53.2367 383.389,-62.3605 387.903,-57.0104\"/>\r\n",
       "</g>\r\n",
       "<!-- 7 -->\r\n",
       "<g id=\"node8\" class=\"node\"><title>7</title>\r\n",
       "<path fill=\"#f8dfcd\" stroke=\"black\" d=\"M545.5,-53C545.5,-53 441.5,-53 441.5,-53 435.5,-53 429.5,-47 429.5,-41 429.5,-41 429.5,-12 429.5,-12 429.5,-6 435.5,-0 441.5,-0 441.5,-0 545.5,-0 545.5,-0 551.5,-0 557.5,-6 557.5,-12 557.5,-12 557.5,-41 557.5,-41 557.5,-47 551.5,-53 545.5,-53\"/>\r\n",
       "<text text-anchor=\"middle\" x=\"493.5\" y=\"-37.8\" font-family=\"Helvetica,sans-Serif\" font-size=\"14.00\">mse = 114.67</text>\r\n",
       "<text text-anchor=\"middle\" x=\"493.5\" y=\"-22.8\" font-family=\"Helvetica,sans-Serif\" font-size=\"14.00\">samples = 12.0%</text>\r\n",
       "<text text-anchor=\"middle\" x=\"493.5\" y=\"-7.8\" font-family=\"Helvetica,sans-Serif\" font-size=\"14.00\">value = 1971.42</text>\r\n",
       "</g>\r\n",
       "<!-- 5&#45;&gt;7 -->\r\n",
       "<g id=\"edge7\" class=\"edge\"><title>5&#45;&gt;7</title>\r\n",
       "<path fill=\"none\" stroke=\"black\" d=\"M471.392,-88.9485C474.453,-80.4408 477.757,-71.2562 480.855,-62.6464\"/>\r\n",
       "<polygon fill=\"black\" stroke=\"black\" points=\"484.148,-63.8311 484.24,-53.2367 477.561,-61.4613 484.148,-63.8311\"/>\r\n",
       "</g>\r\n",
       "<!-- 9 -->\r\n",
       "<g id=\"node10\" class=\"node\"><title>9</title>\r\n",
       "<path fill=\"#efb286\" stroke=\"black\" d=\"M725.5,-157C725.5,-157 619.5,-157 619.5,-157 613.5,-157 607.5,-151 607.5,-145 607.5,-145 607.5,-101 607.5,-101 607.5,-95 613.5,-89 619.5,-89 619.5,-89 725.5,-89 725.5,-89 731.5,-89 737.5,-95 737.5,-101 737.5,-101 737.5,-145 737.5,-145 737.5,-151 731.5,-157 725.5,-157\"/>\r\n",
       "<text text-anchor=\"middle\" x=\"672.5\" y=\"-141.8\" font-family=\"Helvetica,sans-Serif\" font-size=\"14.00\">popularity &lt;= 41.5</text>\r\n",
       "<text text-anchor=\"middle\" x=\"672.5\" y=\"-126.8\" font-family=\"Helvetica,sans-Serif\" font-size=\"14.00\">mse = 197.02</text>\r\n",
       "<text text-anchor=\"middle\" x=\"672.5\" y=\"-111.8\" font-family=\"Helvetica,sans-Serif\" font-size=\"14.00\">samples = 30.7%</text>\r\n",
       "<text text-anchor=\"middle\" x=\"672.5\" y=\"-96.8\" font-family=\"Helvetica,sans-Serif\" font-size=\"14.00\">value = 1991.46</text>\r\n",
       "</g>\r\n",
       "<!-- 8&#45;&gt;9 -->\r\n",
       "<g id=\"edge9\" class=\"edge\"><title>8&#45;&gt;9</title>\r\n",
       "<path fill=\"none\" stroke=\"black\" d=\"M672.5,-192.884C672.5,-184.778 672.5,-175.982 672.5,-167.472\"/>\r\n",
       "<polygon fill=\"black\" stroke=\"black\" points=\"676,-167.299 672.5,-157.299 669,-167.299 676,-167.299\"/>\r\n",
       "</g>\r\n",
       "<!-- 12 -->\r\n",
       "<g id=\"node13\" class=\"node\"><title>12</title>\r\n",
       "<path fill=\"#e99558\" stroke=\"black\" d=\"M983.5,-157C983.5,-157 879.5,-157 879.5,-157 873.5,-157 867.5,-151 867.5,-145 867.5,-145 867.5,-101 867.5,-101 867.5,-95 873.5,-89 879.5,-89 879.5,-89 983.5,-89 983.5,-89 989.5,-89 995.5,-95 995.5,-101 995.5,-101 995.5,-145 995.5,-145 995.5,-151 989.5,-157 983.5,-157\"/>\r\n",
       "<text text-anchor=\"middle\" x=\"931.5\" y=\"-141.8\" font-family=\"Helvetica,sans-Serif\" font-size=\"14.00\">explicit &lt;= 0.5</text>\r\n",
       "<text text-anchor=\"middle\" x=\"931.5\" y=\"-126.8\" font-family=\"Helvetica,sans-Serif\" font-size=\"14.00\">mse = 211.87</text>\r\n",
       "<text text-anchor=\"middle\" x=\"931.5\" y=\"-111.8\" font-family=\"Helvetica,sans-Serif\" font-size=\"14.00\">samples = 25.9%</text>\r\n",
       "<text text-anchor=\"middle\" x=\"931.5\" y=\"-96.8\" font-family=\"Helvetica,sans-Serif\" font-size=\"14.00\">value = 2004.24</text>\r\n",
       "</g>\r\n",
       "<!-- 8&#45;&gt;12 -->\r\n",
       "<g id=\"edge12\" class=\"edge\"><title>8&#45;&gt;12</title>\r\n",
       "<path fill=\"none\" stroke=\"black\" d=\"M737.522,-200.393C774.129,-185.976 819.964,-167.925 857.888,-152.99\"/>\r\n",
       "<polygon fill=\"black\" stroke=\"black\" points=\"859.326,-156.185 867.348,-149.264 856.761,-149.672 859.326,-156.185\"/>\r\n",
       "</g>\r\n",
       "<!-- 10 -->\r\n",
       "<g id=\"node11\" class=\"node\"><title>10</title>\r\n",
       "<path fill=\"#f1bc96\" stroke=\"black\" d=\"M691.5,-53C691.5,-53 587.5,-53 587.5,-53 581.5,-53 575.5,-47 575.5,-41 575.5,-41 575.5,-12 575.5,-12 575.5,-6 581.5,-0 587.5,-0 587.5,-0 691.5,-0 691.5,-0 697.5,-0 703.5,-6 703.5,-12 703.5,-12 703.5,-41 703.5,-41 703.5,-47 697.5,-53 691.5,-53\"/>\r\n",
       "<text text-anchor=\"middle\" x=\"639.5\" y=\"-37.8\" font-family=\"Helvetica,sans-Serif\" font-size=\"14.00\">mse = 165.68</text>\r\n",
       "<text text-anchor=\"middle\" x=\"639.5\" y=\"-22.8\" font-family=\"Helvetica,sans-Serif\" font-size=\"14.00\">samples = 12.5%</text>\r\n",
       "<text text-anchor=\"middle\" x=\"639.5\" y=\"-7.8\" font-family=\"Helvetica,sans-Serif\" font-size=\"14.00\">value = 1986.83</text>\r\n",
       "</g>\r\n",
       "<!-- 9&#45;&gt;10 -->\r\n",
       "<g id=\"edge10\" class=\"edge\"><title>9&#45;&gt;10</title>\r\n",
       "<path fill=\"none\" stroke=\"black\" d=\"M660.958,-88.9485C658.019,-80.5323 654.849,-71.4536 651.87,-62.9243\"/>\r\n",
       "<polygon fill=\"black\" stroke=\"black\" points=\"655.089,-61.5237 648.487,-53.2367 648.48,-63.8315 655.089,-61.5237\"/>\r\n",
       "</g>\r\n",
       "<!-- 11 -->\r\n",
       "<g id=\"node12\" class=\"node\"><title>11</title>\r\n",
       "<path fill=\"#eeab7a\" stroke=\"black\" d=\"M837.5,-53C837.5,-53 733.5,-53 733.5,-53 727.5,-53 721.5,-47 721.5,-41 721.5,-41 721.5,-12 721.5,-12 721.5,-6 727.5,-0 733.5,-0 733.5,-0 837.5,-0 837.5,-0 843.5,-0 849.5,-6 849.5,-12 849.5,-12 849.5,-41 849.5,-41 849.5,-47 843.5,-53 837.5,-53\"/>\r\n",
       "<text text-anchor=\"middle\" x=\"785.5\" y=\"-37.8\" font-family=\"Helvetica,sans-Serif\" font-size=\"14.00\">mse = 193.78</text>\r\n",
       "<text text-anchor=\"middle\" x=\"785.5\" y=\"-22.8\" font-family=\"Helvetica,sans-Serif\" font-size=\"14.00\">samples = 18.2%</text>\r\n",
       "<text text-anchor=\"middle\" x=\"785.5\" y=\"-7.8\" font-family=\"Helvetica,sans-Serif\" font-size=\"14.00\">value = 1994.63</text>\r\n",
       "</g>\r\n",
       "<!-- 9&#45;&gt;11 -->\r\n",
       "<g id=\"edge11\" class=\"edge\"><title>9&#45;&gt;11</title>\r\n",
       "<path fill=\"none\" stroke=\"black\" d=\"M712.022,-88.9485C723.289,-79.526 735.549,-69.2731 746.768,-59.8906\"/>\r\n",
       "<polygon fill=\"black\" stroke=\"black\" points=\"749.299,-62.3368 754.725,-53.2367 744.808,-56.967 749.299,-62.3368\"/>\r\n",
       "</g>\r\n",
       "<!-- 13 -->\r\n",
       "<g id=\"node14\" class=\"node\"><title>13</title>\r\n",
       "<path fill=\"#ea9a60\" stroke=\"black\" d=\"M983.5,-53C983.5,-53 879.5,-53 879.5,-53 873.5,-53 867.5,-47 867.5,-41 867.5,-41 867.5,-12 867.5,-12 867.5,-6 873.5,-0 879.5,-0 879.5,-0 983.5,-0 983.5,-0 989.5,-0 995.5,-6 995.5,-12 995.5,-12 995.5,-41 995.5,-41 995.5,-47 989.5,-53 983.5,-53\"/>\r\n",
       "<text text-anchor=\"middle\" x=\"931.5\" y=\"-37.8\" font-family=\"Helvetica,sans-Serif\" font-size=\"14.00\">mse = 226.84</text>\r\n",
       "<text text-anchor=\"middle\" x=\"931.5\" y=\"-22.8\" font-family=\"Helvetica,sans-Serif\" font-size=\"14.00\">samples = 20.8%</text>\r\n",
       "<text text-anchor=\"middle\" x=\"931.5\" y=\"-7.8\" font-family=\"Helvetica,sans-Serif\" font-size=\"14.00\">value = 2002.07</text>\r\n",
       "</g>\r\n",
       "<!-- 12&#45;&gt;13 -->\r\n",
       "<g id=\"edge13\" class=\"edge\"><title>12&#45;&gt;13</title>\r\n",
       "<path fill=\"none\" stroke=\"black\" d=\"M931.5,-88.9485C931.5,-80.7153 931.5,-71.848 931.5,-63.4814\"/>\r\n",
       "<polygon fill=\"black\" stroke=\"black\" points=\"935,-63.2367 931.5,-53.2367 928,-63.2367 935,-63.2367\"/>\r\n",
       "</g>\r\n",
       "<!-- 14 -->\r\n",
       "<g id=\"node15\" class=\"node\"><title>14</title>\r\n",
       "<path fill=\"#e58139\" stroke=\"black\" d=\"M1121,-53C1121,-53 1026,-53 1026,-53 1020,-53 1014,-47 1014,-41 1014,-41 1014,-12 1014,-12 1014,-6 1020,-0 1026,-0 1026,-0 1121,-0 1121,-0 1127,-0 1133,-6 1133,-12 1133,-12 1133,-41 1133,-41 1133,-47 1127,-53 1121,-53\"/>\r\n",
       "<text text-anchor=\"middle\" x=\"1073.5\" y=\"-37.8\" font-family=\"Helvetica,sans-Serif\" font-size=\"14.00\">mse = 57.38</text>\r\n",
       "<text text-anchor=\"middle\" x=\"1073.5\" y=\"-22.8\" font-family=\"Helvetica,sans-Serif\" font-size=\"14.00\">samples = 5.2%</text>\r\n",
       "<text text-anchor=\"middle\" x=\"1073.5\" y=\"-7.8\" font-family=\"Helvetica,sans-Serif\" font-size=\"14.00\">value = 2012.94</text>\r\n",
       "</g>\r\n",
       "<!-- 12&#45;&gt;14 -->\r\n",
       "<g id=\"edge14\" class=\"edge\"><title>12&#45;&gt;14</title>\r\n",
       "<path fill=\"none\" stroke=\"black\" d=\"M981.165,-88.9485C995.873,-79.1601 1011.93,-68.4756 1026.46,-58.8015\"/>\r\n",
       "<polygon fill=\"black\" stroke=\"black\" points=\"1028.44,-61.6907 1034.83,-53.2367 1024.56,-55.8632 1028.44,-61.6907\"/>\r\n",
       "</g>\r\n",
       "</g>\r\n",
       "</svg>\r\n"
      ],
      "text/plain": [
       "<graphviz.files.Source at 0x15d02ac95f8>"
      ]
     },
     "execution_count": 28,
     "metadata": {},
     "output_type": "execute_result"
    }
   ],
   "source": [
    "dot_data= export_graphviz(treereg, precision=2,feature_names=predictors,  proportion=True,filled=True, rounded=True) \n",
    "\n",
    "graph = graphviz.Source(dot_data)\n",
    "graph"
   ]
  },
  {
   "cell_type": "markdown",
   "metadata": {},
   "source": [
    "The same issue is shown in the tree as well. The MSE values around those problem areas have a high MSE value compared to the other branches."
   ]
  },
  {
   "cell_type": "code",
   "execution_count": 29,
   "metadata": {},
   "outputs": [
    {
     "data": {
      "image/png": "[encoded data removed]",
      "text/plain": [
       "<Figure size 432x288 with 1 Axes>"
      ]
     },
     "metadata": {
      "needs_background": "light"
     },
     "output_type": "display_data"
    }
   ],
   "source": [
    "train_sizes, train_scores, test_scores = learning_curve(treereg, X_train, y_train, cv=10, \n",
    "                                                         scoring='neg_mean_squared_error')\n",
    "train_scores_mean = np.mean(train_scores, axis = 1)\n",
    "test_scores_mean = np.mean(test_scores, axis = 1)\n",
    "plt.plot(train_sizes, train_scores_mean, label='train')\n",
    "plt.plot(train_sizes, test_scores_mean, label='test')\n",
    "plt.xlabel('training set size')\n",
    "plt.title('Learning curve, decision tree')\n",
    "plt.legend();"
   ]
  },
  {
   "cell_type": "markdown",
   "metadata": {},
   "source": [
    "From the learning curve it shows that there is high variance, so if we were to develop this model further we should remove features to help mitigate that."
   ]
  },
  {
   "cell_type": "markdown",
   "metadata": {},
   "source": [
    "Now lets see if there is an improvement using a higher max_depths"
   ]
  },
  {
   "cell_type": "code",
   "execution_count": 32,
   "metadata": {},
   "outputs": [],
   "source": [
    "treereg5 = DecisionTreeRegressor(max_depth=5)\n",
    "treereg5.fit(X_train, y_train)\n",
    "y_predict = treereg5.predict(X_test)"
   ]
  },
  {
   "cell_type": "code",
   "execution_count": 33,
   "metadata": {},
   "outputs": [
    {
     "name": "stdout",
     "output_type": "stream",
     "text": [
      "12.719677990838004\n"
     ]
    }
   ],
   "source": [
    "y_predict = treereg5.predict(X_test)\n",
    "scores = -cross_val_score(treereg5, X, y, scoring='neg_mean_squared_error', cv=10)\n",
    "\n",
    "scores.mean()\n",
    "rmse = np.sqrt(scores.mean()).mean()\n",
    "print(rmse)"
   ]
  },
  {
   "cell_type": "markdown",
   "metadata": {},
   "source": [
    "Already there is an improvement in RMSE and this is without forward feature selection. Now lets use forward feature selection and see if there is a larger improvement."
   ]
  },
  {
   "cell_type": "code",
   "execution_count": 34,
   "metadata": {},
   "outputs": [
    {
     "name": "stdout",
     "output_type": "stream",
     "text": [
      "num features: 1; rmse: 12.49\n",
      "num features: 2; rmse: 11.68\n",
      "num features: 3; rmse: 11.50\n",
      "num features: 4; rmse: 11.48\n",
      "num features: 5; rmse: 11.46\n",
      "num features: 6; rmse: 11.46\n",
      "num features: 7; rmse: 11.46\n",
      "num features: 8; rmse: 11.46\n",
      "num features: 9; rmse: 11.46\n",
      "num features: 10; rmse: 11.46\n",
      "['popularity', 'acousticness', 'explicit', 'valence', 'speechiness', 'instrumentalness', 'liveness', 'mode', 'tempo', 'danceability']\n"
     ]
    }
   ],
   "source": [
    "best_array = forward_feature_selection(X_train, y_train, DecisionTreeRegressor(max_depth=5))\n",
    "feature_names = []\n",
    "for i in best_array:\n",
    "    feature_names.append(predictors[i])\n",
    "print(feature_names)"
   ]
  },
  {
   "cell_type": "markdown",
   "metadata": {},
   "source": []
  },
  {
   "cell_type": "code",
   "execution_count": 35,
   "metadata": {},
   "outputs": [
    {
     "data": {
      "image/svg+xml": [
       "<?xml version=\"1.0\" encoding=\"UTF-8\" standalone=\"no\"?>\r\n",
       "<!DOCTYPE svg PUBLIC \"-//W3C//DTD SVG 1.1//EN\"\r\n",
       " \"http://www.w3.org/Graphics/SVG/1.1/DTD/svg11.dtd\">\r\n",
       "<!-- Generated by graphviz version 2.38.0 (20140413.2041)\r\n",
       " -->\r\n",
       "<!-- Title: Tree Pages: 1 -->\r\n",
       "<svg width=\"1141pt\" height=\"373pt\"\r\n",
       " viewBox=\"0.00 0.00 1141.00 373.00\" xmlns=\"http://www.w3.org/2000/svg\" xmlns:xlink=\"http://www.w3.org/1999/xlink\">\r\n",
       "<g id=\"graph0\" class=\"graph\" transform=\"scale(1 1) rotate(0) translate(4 369)\">\r\n",
       "<title>Tree</title>\r\n",
       "<polygon fill=\"white\" stroke=\"none\" points=\"-4,4 -4,-369 1137,-369 1137,4 -4,4\"/>\r\n",
       "<!-- 0 -->\r\n",
       "<g id=\"node1\" class=\"node\"><title>0</title>\r\n",
       "<path fill=\"#f2c09c\" stroke=\"black\" d=\"M621.5,-365C621.5,-365 509.5,-365 509.5,-365 503.5,-365 497.5,-359 497.5,-353 497.5,-353 497.5,-309 497.5,-309 497.5,-303 503.5,-297 509.5,-297 509.5,-297 621.5,-297 621.5,-297 627.5,-297 633.5,-303 633.5,-309 633.5,-309 633.5,-353 633.5,-353 633.5,-359 627.5,-365 621.5,-365\"/>\r\n",
       "<text text-anchor=\"middle\" x=\"565.5\" y=\"-349.8\" font-family=\"Helvetica,sans-Serif\" font-size=\"14.00\">popularity &lt;= 35.5</text>\r\n",
       "<text text-anchor=\"middle\" x=\"565.5\" y=\"-334.8\" font-family=\"Helvetica,sans-Serif\" font-size=\"14.00\">mse = 418.69</text>\r\n",
       "<text text-anchor=\"middle\" x=\"565.5\" y=\"-319.8\" font-family=\"Helvetica,sans-Serif\" font-size=\"14.00\">samples = 100.0%</text>\r\n",
       "<text text-anchor=\"middle\" x=\"565.5\" y=\"-304.8\" font-family=\"Helvetica,sans-Serif\" font-size=\"14.00\">value = 1985.07</text>\r\n",
       "</g>\r\n",
       "<!-- 1 -->\r\n",
       "<g id=\"node2\" class=\"node\"><title>1</title>\r\n",
       "<path fill=\"#fae5d5\" stroke=\"black\" d=\"M512.5,-261C512.5,-261 406.5,-261 406.5,-261 400.5,-261 394.5,-255 394.5,-249 394.5,-249 394.5,-205 394.5,-205 394.5,-199 400.5,-193 406.5,-193 406.5,-193 512.5,-193 512.5,-193 518.5,-193 524.5,-199 524.5,-205 524.5,-205 524.5,-249 524.5,-249 524.5,-255 518.5,-261 512.5,-261\"/>\r\n",
       "<text text-anchor=\"middle\" x=\"459.5\" y=\"-245.8\" font-family=\"Helvetica,sans-Serif\" font-size=\"14.00\">popularity &lt;= 20.5</text>\r\n",
       "<text text-anchor=\"middle\" x=\"459.5\" y=\"-230.8\" font-family=\"Helvetica,sans-Serif\" font-size=\"14.00\">mse = 195.03</text>\r\n",
       "<text text-anchor=\"middle\" x=\"459.5\" y=\"-215.8\" font-family=\"Helvetica,sans-Serif\" font-size=\"14.00\">samples = 43.4%</text>\r\n",
       "<text text-anchor=\"middle\" x=\"459.5\" y=\"-200.8\" font-family=\"Helvetica,sans-Serif\" font-size=\"14.00\">value = 1969.08</text>\r\n",
       "</g>\r\n",
       "<!-- 0&#45;&gt;1 -->\r\n",
       "<g id=\"edge1\" class=\"edge\"><title>0&#45;&gt;1</title>\r\n",
       "<path fill=\"none\" stroke=\"black\" d=\"M531.085,-296.884C521.643,-287.798 511.3,-277.845 501.485,-268.4\"/>\r\n",
       "<polygon fill=\"black\" stroke=\"black\" points=\"503.738,-265.711 494.105,-261.299 498.884,-270.755 503.738,-265.711\"/>\r\n",
       "<text text-anchor=\"middle\" x=\"494.586\" y=\"-282.595\" font-family=\"Helvetica,sans-Serif\" font-size=\"14.00\">True</text>\r\n",
       "</g>\r\n",
       "<!-- 8 -->\r\n",
       "<g id=\"node9\" class=\"node\"><title>8</title>\r\n",
       "<path fill=\"#eca471\" stroke=\"black\" d=\"M725.5,-261C725.5,-261 619.5,-261 619.5,-261 613.5,-261 607.5,-255 607.5,-249 607.5,-249 607.5,-205 607.5,-205 607.5,-199 613.5,-193 619.5,-193 619.5,-193 725.5,-193 725.5,-193 731.5,-193 737.5,-199 737.5,-205 737.5,-205 737.5,-249 737.5,-249 737.5,-255 731.5,-261 725.5,-261\"/>\r\n",
       "<text text-anchor=\"middle\" x=\"672.5\" y=\"-245.8\" font-family=\"Helvetica,sans-Serif\" font-size=\"14.00\">popularity &lt;= 50.5</text>\r\n",
       "<text text-anchor=\"middle\" x=\"672.5\" y=\"-230.8\" font-family=\"Helvetica,sans-Serif\" font-size=\"14.00\">mse = 244.38</text>\r\n",
       "<text text-anchor=\"middle\" x=\"672.5\" y=\"-215.8\" font-family=\"Helvetica,sans-Serif\" font-size=\"14.00\">samples = 56.6%</text>\r\n",
       "<text text-anchor=\"middle\" x=\"672.5\" y=\"-200.8\" font-family=\"Helvetica,sans-Serif\" font-size=\"14.00\">value = 1997.31</text>\r\n",
       "</g>\r\n",
       "<!-- 0&#45;&gt;8 -->\r\n",
       "<g id=\"edge8\" class=\"edge\"><title>0&#45;&gt;8</title>\r\n",
       "<path fill=\"none\" stroke=\"black\" d=\"M600.24,-296.884C609.771,-287.798 620.211,-277.845 630.119,-268.4\"/>\r\n",
       "<polygon fill=\"black\" stroke=\"black\" points=\"632.745,-270.733 637.568,-261.299 627.915,-265.666 632.745,-270.733\"/>\r\n",
       "<text text-anchor=\"middle\" x=\"636.97\" y=\"-282.592\" font-family=\"Helvetica,sans-Serif\" font-size=\"14.00\">False</text>\r\n",
       "</g>\r\n",
       "<!-- 2 -->\r\n",
       "<g id=\"node3\" class=\"node\"><title>2</title>\r\n",
       "<path fill=\"#fefbf8\" stroke=\"black\" d=\"M265.5,-157C265.5,-157 137.5,-157 137.5,-157 131.5,-157 125.5,-151 125.5,-145 125.5,-145 125.5,-101 125.5,-101 125.5,-95 131.5,-89 137.5,-89 137.5,-89 265.5,-89 265.5,-89 271.5,-89 277.5,-95 277.5,-101 277.5,-101 277.5,-145 277.5,-145 277.5,-151 271.5,-157 265.5,-157\"/>\r\n",
       "<text text-anchor=\"middle\" x=\"201.5\" y=\"-141.8\" font-family=\"Helvetica,sans-Serif\" font-size=\"14.00\">acousticness &lt;= 0.25</text>\r\n",
       "<text text-anchor=\"middle\" x=\"201.5\" y=\"-126.8\" font-family=\"Helvetica,sans-Serif\" font-size=\"14.00\">mse = 153.75</text>\r\n",
       "<text text-anchor=\"middle\" x=\"201.5\" y=\"-111.8\" font-family=\"Helvetica,sans-Serif\" font-size=\"14.00\">samples = 17.7%</text>\r\n",
       "<text text-anchor=\"middle\" x=\"201.5\" y=\"-96.8\" font-family=\"Helvetica,sans-Serif\" font-size=\"14.00\">value = 1959.41</text>\r\n",
       "</g>\r\n",
       "<!-- 1&#45;&gt;2 -->\r\n",
       "<g id=\"edge2\" class=\"edge\"><title>1&#45;&gt;2</title>\r\n",
       "<path fill=\"none\" stroke=\"black\" d=\"M394.396,-200.261C361.921,-187.422 322.218,-171.726 287.292,-157.918\"/>\r\n",
       "<polygon fill=\"black\" stroke=\"black\" points=\"288.165,-154.499 277.578,-154.077 285.591,-161.009 288.165,-154.499\"/>\r\n",
       "</g>\r\n",
       "<!-- 5 -->\r\n",
       "<g id=\"node6\" class=\"node\"><title>5</title>\r\n",
       "<path fill=\"#f6d5be\" stroke=\"black\" d=\"M523.5,-157C523.5,-157 395.5,-157 395.5,-157 389.5,-157 383.5,-151 383.5,-145 383.5,-145 383.5,-101 383.5,-101 383.5,-95 389.5,-89 395.5,-89 395.5,-89 523.5,-89 523.5,-89 529.5,-89 535.5,-95 535.5,-101 535.5,-101 535.5,-145 535.5,-145 535.5,-151 529.5,-157 523.5,-157\"/>\r\n",
       "<text text-anchor=\"middle\" x=\"459.5\" y=\"-141.8\" font-family=\"Helvetica,sans-Serif\" font-size=\"14.00\">acousticness &lt;= 0.47</text>\r\n",
       "<text text-anchor=\"middle\" x=\"459.5\" y=\"-126.8\" font-family=\"Helvetica,sans-Serif\" font-size=\"14.00\">mse = 114.21</text>\r\n",
       "<text text-anchor=\"middle\" x=\"459.5\" y=\"-111.8\" font-family=\"Helvetica,sans-Serif\" font-size=\"14.00\">samples = 25.6%</text>\r\n",
       "<text text-anchor=\"middle\" x=\"459.5\" y=\"-96.8\" font-family=\"Helvetica,sans-Serif\" font-size=\"14.00\">value = 1975.77</text>\r\n",
       "</g>\r\n",
       "<!-- 1&#45;&gt;5 -->\r\n",
       "<g id=\"edge5\" class=\"edge\"><title>1&#45;&gt;5</title>\r\n",
       "<path fill=\"none\" stroke=\"black\" d=\"M459.5,-192.884C459.5,-184.778 459.5,-175.982 459.5,-167.472\"/>\r\n",
       "<polygon fill=\"black\" stroke=\"black\" points=\"463,-167.299 459.5,-157.299 456,-167.299 463,-167.299\"/>\r\n",
       "</g>\r\n",
       "<!-- 3 -->\r\n",
       "<g id=\"node4\" class=\"node\"><title>3</title>\r\n",
       "<path fill=\"#f3c6a5\" stroke=\"black\" d=\"M107,-53C107,-53 12,-53 12,-53 6,-53 -7.10543e-015,-47 -7.10543e-015,-41 -7.10543e-015,-41 -7.10543e-015,-12 -7.10543e-015,-12 -7.10543e-015,-6 6,-0 12,-0 12,-0 107,-0 107,-0 113,-0 119,-6 119,-12 119,-12 119,-41 119,-41 119,-47 113,-53 107,-53\"/>\r\n",
       "<text text-anchor=\"middle\" x=\"59.5\" y=\"-37.8\" font-family=\"Helvetica,sans-Serif\" font-size=\"14.00\">mse = 649.65</text>\r\n",
       "<text text-anchor=\"middle\" x=\"59.5\" y=\"-22.8\" font-family=\"Helvetica,sans-Serif\" font-size=\"14.00\">samples = 1.4%</text>\r\n",
       "<text text-anchor=\"middle\" x=\"59.5\" y=\"-7.8\" font-family=\"Helvetica,sans-Serif\" font-size=\"14.00\">value = 1982.72</text>\r\n",
       "</g>\r\n",
       "<!-- 2&#45;&gt;3 -->\r\n",
       "<g id=\"edge3\" class=\"edge\"><title>2&#45;&gt;3</title>\r\n",
       "<path fill=\"none\" stroke=\"black\" d=\"M151.835,-88.9485C137.127,-79.1601 121.072,-68.4756 106.535,-58.8015\"/>\r\n",
       "<polygon fill=\"black\" stroke=\"black\" points=\"108.437,-55.8632 98.1731,-53.2367 104.559,-61.6907 108.437,-55.8632\"/>\r\n",
       "</g>\r\n",
       "<!-- 4 -->\r\n",
       "<g id=\"node5\" class=\"node\"><title>4</title>\r\n",
       "<path fill=\"#ffffff\" stroke=\"black\" d=\"M253.5,-53C253.5,-53 149.5,-53 149.5,-53 143.5,-53 137.5,-47 137.5,-41 137.5,-41 137.5,-12 137.5,-12 137.5,-6 143.5,-0 149.5,-0 149.5,-0 253.5,-0 253.5,-0 259.5,-0 265.5,-6 265.5,-12 265.5,-12 265.5,-41 265.5,-41 265.5,-47 259.5,-53 253.5,-53\"/>\r\n",
       "<text text-anchor=\"middle\" x=\"201.5\" y=\"-37.8\" font-family=\"Helvetica,sans-Serif\" font-size=\"14.00\">mse = 61.67</text>\r\n",
       "<text text-anchor=\"middle\" x=\"201.5\" y=\"-22.8\" font-family=\"Helvetica,sans-Serif\" font-size=\"14.00\">samples = 16.3%</text>\r\n",
       "<text text-anchor=\"middle\" x=\"201.5\" y=\"-7.8\" font-family=\"Helvetica,sans-Serif\" font-size=\"14.00\">value = 1957.43</text>\r\n",
       "</g>\r\n",
       "<!-- 2&#45;&gt;4 -->\r\n",
       "<g id=\"edge4\" class=\"edge\"><title>2&#45;&gt;4</title>\r\n",
       "<path fill=\"none\" stroke=\"black\" d=\"M201.5,-88.9485C201.5,-80.7153 201.5,-71.848 201.5,-63.4814\"/>\r\n",
       "<polygon fill=\"black\" stroke=\"black\" points=\"205,-63.2367 201.5,-53.2367 198,-63.2367 205,-63.2367\"/>\r\n",
       "</g>\r\n",
       "<!-- 6 -->\r\n",
       "<g id=\"node7\" class=\"node\"><title>6</title>\r\n",
       "<path fill=\"#f5cdb0\" stroke=\"black\" d=\"M399.5,-53C399.5,-53 295.5,-53 295.5,-53 289.5,-53 283.5,-47 283.5,-41 283.5,-41 283.5,-12 283.5,-12 283.5,-6 289.5,-0 295.5,-0 295.5,-0 399.5,-0 399.5,-0 405.5,-0 411.5,-6 411.5,-12 411.5,-12 411.5,-41 411.5,-41 411.5,-47 405.5,-53 399.5,-53\"/>\r\n",
       "<text text-anchor=\"middle\" x=\"347.5\" y=\"-37.8\" font-family=\"Helvetica,sans-Serif\" font-size=\"14.00\">mse = 82.58</text>\r\n",
       "<text text-anchor=\"middle\" x=\"347.5\" y=\"-22.8\" font-family=\"Helvetica,sans-Serif\" font-size=\"14.00\">samples = 13.6%</text>\r\n",
       "<text text-anchor=\"middle\" x=\"347.5\" y=\"-7.8\" font-family=\"Helvetica,sans-Serif\" font-size=\"14.00\">value = 1979.59</text>\r\n",
       "</g>\r\n",
       "<!-- 5&#45;&gt;6 -->\r\n",
       "<g id=\"edge6\" class=\"edge\"><title>5&#45;&gt;6</title>\r\n",
       "<path fill=\"none\" stroke=\"black\" d=\"M420.328,-88.9485C409.16,-79.526 397.009,-69.2731 385.889,-59.8906\"/>\r\n",
       "<polygon fill=\"black\" stroke=\"black\" points=\"387.903,-57.0104 378.003,-53.2367 383.389,-62.3605 387.903,-57.0104\"/>\r\n",
       "</g>\r\n",
       "<!-- 7 -->\r\n",
       "<g id=\"node8\" class=\"node\"><title>7</title>\r\n",
       "<path fill=\"#f8dfcd\" stroke=\"black\" d=\"M545.5,-53C545.5,-53 441.5,-53 441.5,-53 435.5,-53 429.5,-47 429.5,-41 429.5,-41 429.5,-12 429.5,-12 429.5,-6 435.5,-0 441.5,-0 441.5,-0 545.5,-0 545.5,-0 551.5,-0 557.5,-6 557.5,-12 557.5,-12 557.5,-41 557.5,-41 557.5,-47 551.5,-53 545.5,-53\"/>\r\n",
       "<text text-anchor=\"middle\" x=\"493.5\" y=\"-37.8\" font-family=\"Helvetica,sans-Serif\" font-size=\"14.00\">mse = 114.67</text>\r\n",
       "<text text-anchor=\"middle\" x=\"493.5\" y=\"-22.8\" font-family=\"Helvetica,sans-Serif\" font-size=\"14.00\">samples = 12.0%</text>\r\n",
       "<text text-anchor=\"middle\" x=\"493.5\" y=\"-7.8\" font-family=\"Helvetica,sans-Serif\" font-size=\"14.00\">value = 1971.42</text>\r\n",
       "</g>\r\n",
       "<!-- 5&#45;&gt;7 -->\r\n",
       "<g id=\"edge7\" class=\"edge\"><title>5&#45;&gt;7</title>\r\n",
       "<path fill=\"none\" stroke=\"black\" d=\"M471.392,-88.9485C474.453,-80.4408 477.757,-71.2562 480.855,-62.6464\"/>\r\n",
       "<polygon fill=\"black\" stroke=\"black\" points=\"484.148,-63.8311 484.24,-53.2367 477.561,-61.4613 484.148,-63.8311\"/>\r\n",
       "</g>\r\n",
       "<!-- 9 -->\r\n",
       "<g id=\"node10\" class=\"node\"><title>9</title>\r\n",
       "<path fill=\"#efb286\" stroke=\"black\" d=\"M725.5,-157C725.5,-157 619.5,-157 619.5,-157 613.5,-157 607.5,-151 607.5,-145 607.5,-145 607.5,-101 607.5,-101 607.5,-95 613.5,-89 619.5,-89 619.5,-89 725.5,-89 725.5,-89 731.5,-89 737.5,-95 737.5,-101 737.5,-101 737.5,-145 737.5,-145 737.5,-151 731.5,-157 725.5,-157\"/>\r\n",
       "<text text-anchor=\"middle\" x=\"672.5\" y=\"-141.8\" font-family=\"Helvetica,sans-Serif\" font-size=\"14.00\">popularity &lt;= 41.5</text>\r\n",
       "<text text-anchor=\"middle\" x=\"672.5\" y=\"-126.8\" font-family=\"Helvetica,sans-Serif\" font-size=\"14.00\">mse = 197.02</text>\r\n",
       "<text text-anchor=\"middle\" x=\"672.5\" y=\"-111.8\" font-family=\"Helvetica,sans-Serif\" font-size=\"14.00\">samples = 30.7%</text>\r\n",
       "<text text-anchor=\"middle\" x=\"672.5\" y=\"-96.8\" font-family=\"Helvetica,sans-Serif\" font-size=\"14.00\">value = 1991.46</text>\r\n",
       "</g>\r\n",
       "<!-- 8&#45;&gt;9 -->\r\n",
       "<g id=\"edge9\" class=\"edge\"><title>8&#45;&gt;9</title>\r\n",
       "<path fill=\"none\" stroke=\"black\" d=\"M672.5,-192.884C672.5,-184.778 672.5,-175.982 672.5,-167.472\"/>\r\n",
       "<polygon fill=\"black\" stroke=\"black\" points=\"676,-167.299 672.5,-157.299 669,-167.299 676,-167.299\"/>\r\n",
       "</g>\r\n",
       "<!-- 12 -->\r\n",
       "<g id=\"node13\" class=\"node\"><title>12</title>\r\n",
       "<path fill=\"#e99558\" stroke=\"black\" d=\"M983.5,-157C983.5,-157 879.5,-157 879.5,-157 873.5,-157 867.5,-151 867.5,-145 867.5,-145 867.5,-101 867.5,-101 867.5,-95 873.5,-89 879.5,-89 879.5,-89 983.5,-89 983.5,-89 989.5,-89 995.5,-95 995.5,-101 995.5,-101 995.5,-145 995.5,-145 995.5,-151 989.5,-157 983.5,-157\"/>\r\n",
       "<text text-anchor=\"middle\" x=\"931.5\" y=\"-141.8\" font-family=\"Helvetica,sans-Serif\" font-size=\"14.00\">explicit &lt;= 0.5</text>\r\n",
       "<text text-anchor=\"middle\" x=\"931.5\" y=\"-126.8\" font-family=\"Helvetica,sans-Serif\" font-size=\"14.00\">mse = 211.87</text>\r\n",
       "<text text-anchor=\"middle\" x=\"931.5\" y=\"-111.8\" font-family=\"Helvetica,sans-Serif\" font-size=\"14.00\">samples = 25.9%</text>\r\n",
       "<text text-anchor=\"middle\" x=\"931.5\" y=\"-96.8\" font-family=\"Helvetica,sans-Serif\" font-size=\"14.00\">value = 2004.24</text>\r\n",
       "</g>\r\n",
       "<!-- 8&#45;&gt;12 -->\r\n",
       "<g id=\"edge12\" class=\"edge\"><title>8&#45;&gt;12</title>\r\n",
       "<path fill=\"none\" stroke=\"black\" d=\"M737.522,-200.393C774.129,-185.976 819.964,-167.925 857.888,-152.99\"/>\r\n",
       "<polygon fill=\"black\" stroke=\"black\" points=\"859.326,-156.185 867.348,-149.264 856.761,-149.672 859.326,-156.185\"/>\r\n",
       "</g>\r\n",
       "<!-- 10 -->\r\n",
       "<g id=\"node11\" class=\"node\"><title>10</title>\r\n",
       "<path fill=\"#f1bc96\" stroke=\"black\" d=\"M691.5,-53C691.5,-53 587.5,-53 587.5,-53 581.5,-53 575.5,-47 575.5,-41 575.5,-41 575.5,-12 575.5,-12 575.5,-6 581.5,-0 587.5,-0 587.5,-0 691.5,-0 691.5,-0 697.5,-0 703.5,-6 703.5,-12 703.5,-12 703.5,-41 703.5,-41 703.5,-47 697.5,-53 691.5,-53\"/>\r\n",
       "<text text-anchor=\"middle\" x=\"639.5\" y=\"-37.8\" font-family=\"Helvetica,sans-Serif\" font-size=\"14.00\">mse = 165.68</text>\r\n",
       "<text text-anchor=\"middle\" x=\"639.5\" y=\"-22.8\" font-family=\"Helvetica,sans-Serif\" font-size=\"14.00\">samples = 12.5%</text>\r\n",
       "<text text-anchor=\"middle\" x=\"639.5\" y=\"-7.8\" font-family=\"Helvetica,sans-Serif\" font-size=\"14.00\">value = 1986.83</text>\r\n",
       "</g>\r\n",
       "<!-- 9&#45;&gt;10 -->\r\n",
       "<g id=\"edge10\" class=\"edge\"><title>9&#45;&gt;10</title>\r\n",
       "<path fill=\"none\" stroke=\"black\" d=\"M660.958,-88.9485C658.019,-80.5323 654.849,-71.4536 651.87,-62.9243\"/>\r\n",
       "<polygon fill=\"black\" stroke=\"black\" points=\"655.089,-61.5237 648.487,-53.2367 648.48,-63.8315 655.089,-61.5237\"/>\r\n",
       "</g>\r\n",
       "<!-- 11 -->\r\n",
       "<g id=\"node12\" class=\"node\"><title>11</title>\r\n",
       "<path fill=\"#eeab7a\" stroke=\"black\" d=\"M837.5,-53C837.5,-53 733.5,-53 733.5,-53 727.5,-53 721.5,-47 721.5,-41 721.5,-41 721.5,-12 721.5,-12 721.5,-6 727.5,-0 733.5,-0 733.5,-0 837.5,-0 837.5,-0 843.5,-0 849.5,-6 849.5,-12 849.5,-12 849.5,-41 849.5,-41 849.5,-47 843.5,-53 837.5,-53\"/>\r\n",
       "<text text-anchor=\"middle\" x=\"785.5\" y=\"-37.8\" font-family=\"Helvetica,sans-Serif\" font-size=\"14.00\">mse = 193.78</text>\r\n",
       "<text text-anchor=\"middle\" x=\"785.5\" y=\"-22.8\" font-family=\"Helvetica,sans-Serif\" font-size=\"14.00\">samples = 18.2%</text>\r\n",
       "<text text-anchor=\"middle\" x=\"785.5\" y=\"-7.8\" font-family=\"Helvetica,sans-Serif\" font-size=\"14.00\">value = 1994.63</text>\r\n",
       "</g>\r\n",
       "<!-- 9&#45;&gt;11 -->\r\n",
       "<g id=\"edge11\" class=\"edge\"><title>9&#45;&gt;11</title>\r\n",
       "<path fill=\"none\" stroke=\"black\" d=\"M712.022,-88.9485C723.289,-79.526 735.549,-69.2731 746.768,-59.8906\"/>\r\n",
       "<polygon fill=\"black\" stroke=\"black\" points=\"749.299,-62.3368 754.725,-53.2367 744.808,-56.967 749.299,-62.3368\"/>\r\n",
       "</g>\r\n",
       "<!-- 13 -->\r\n",
       "<g id=\"node14\" class=\"node\"><title>13</title>\r\n",
       "<path fill=\"#ea9a60\" stroke=\"black\" d=\"M983.5,-53C983.5,-53 879.5,-53 879.5,-53 873.5,-53 867.5,-47 867.5,-41 867.5,-41 867.5,-12 867.5,-12 867.5,-6 873.5,-0 879.5,-0 879.5,-0 983.5,-0 983.5,-0 989.5,-0 995.5,-6 995.5,-12 995.5,-12 995.5,-41 995.5,-41 995.5,-47 989.5,-53 983.5,-53\"/>\r\n",
       "<text text-anchor=\"middle\" x=\"931.5\" y=\"-37.8\" font-family=\"Helvetica,sans-Serif\" font-size=\"14.00\">mse = 226.84</text>\r\n",
       "<text text-anchor=\"middle\" x=\"931.5\" y=\"-22.8\" font-family=\"Helvetica,sans-Serif\" font-size=\"14.00\">samples = 20.8%</text>\r\n",
       "<text text-anchor=\"middle\" x=\"931.5\" y=\"-7.8\" font-family=\"Helvetica,sans-Serif\" font-size=\"14.00\">value = 2002.07</text>\r\n",
       "</g>\r\n",
       "<!-- 12&#45;&gt;13 -->\r\n",
       "<g id=\"edge13\" class=\"edge\"><title>12&#45;&gt;13</title>\r\n",
       "<path fill=\"none\" stroke=\"black\" d=\"M931.5,-88.9485C931.5,-80.7153 931.5,-71.848 931.5,-63.4814\"/>\r\n",
       "<polygon fill=\"black\" stroke=\"black\" points=\"935,-63.2367 931.5,-53.2367 928,-63.2367 935,-63.2367\"/>\r\n",
       "</g>\r\n",
       "<!-- 14 -->\r\n",
       "<g id=\"node15\" class=\"node\"><title>14</title>\r\n",
       "<path fill=\"#e58139\" stroke=\"black\" d=\"M1121,-53C1121,-53 1026,-53 1026,-53 1020,-53 1014,-47 1014,-41 1014,-41 1014,-12 1014,-12 1014,-6 1020,-0 1026,-0 1026,-0 1121,-0 1121,-0 1127,-0 1133,-6 1133,-12 1133,-12 1133,-41 1133,-41 1133,-47 1127,-53 1121,-53\"/>\r\n",
       "<text text-anchor=\"middle\" x=\"1073.5\" y=\"-37.8\" font-family=\"Helvetica,sans-Serif\" font-size=\"14.00\">mse = 57.38</text>\r\n",
       "<text text-anchor=\"middle\" x=\"1073.5\" y=\"-22.8\" font-family=\"Helvetica,sans-Serif\" font-size=\"14.00\">samples = 5.2%</text>\r\n",
       "<text text-anchor=\"middle\" x=\"1073.5\" y=\"-7.8\" font-family=\"Helvetica,sans-Serif\" font-size=\"14.00\">value = 2012.94</text>\r\n",
       "</g>\r\n",
       "<!-- 12&#45;&gt;14 -->\r\n",
       "<g id=\"edge14\" class=\"edge\"><title>12&#45;&gt;14</title>\r\n",
       "<path fill=\"none\" stroke=\"black\" d=\"M981.165,-88.9485C995.873,-79.1601 1011.93,-68.4756 1026.46,-58.8015\"/>\r\n",
       "<polygon fill=\"black\" stroke=\"black\" points=\"1028.44,-61.6907 1034.83,-53.2367 1024.56,-55.8632 1028.44,-61.6907\"/>\r\n",
       "</g>\r\n",
       "</g>\r\n",
       "</svg>\r\n"
      ],
      "text/plain": [
       "<graphviz.files.Source at 0x15d02fee550>"
      ]
     },
     "execution_count": 35,
     "metadata": {},
     "output_type": "execute_result"
    }
   ],
   "source": [
    "dot_data= export_graphviz(treereg, precision=2,feature_names=predictors,  proportion=True,filled=True, rounded=True) \n",
    "\n",
    "graph = graphviz.Source(dot_data)\n",
    "graph"
   ]
  },
  {
   "cell_type": "code",
   "execution_count": 36,
   "metadata": {},
   "outputs": [
    {
     "data": {
      "image/png": "[encoded data removed]",
      "text/plain": [
       "<Figure size 432x288 with 1 Axes>"
      ]
     },
     "metadata": {
      "needs_background": "light"
     },
     "output_type": "display_data"
    }
   ],
   "source": [
    "train_sizes, train_scores, test_scores = learning_curve(treereg, X_train, y_train, cv=10, \n",
    "                                                         scoring='neg_mean_squared_error')\n",
    "train_scores_mean = np.mean(train_scores, axis = 1)\n",
    "test_scores_mean = np.mean(test_scores, axis = 1)\n",
    "plt.plot(train_sizes, train_scores_mean, label='train')\n",
    "plt.plot(train_sizes, test_scores_mean, label='test')\n",
    "plt.ylabel('Negative MSE')\n",
    "plt.xlabel('training set size')\n",
    "plt.title('Learning curve, decision tree')\n",
    "plt.legend();"
   ]
  },
  {
   "cell_type": "markdown",
   "metadata": {},
   "source": [
    "### Linear Regression"
   ]
  },
  {
   "cell_type": "code",
   "execution_count": null,
   "metadata": {},
   "outputs": [],
   "source": [
    "linreg = LinearRegression()\n",
    "linreg.fit(X_train, y_train)\n",
    "y_predict = linreg.predict(X_test)"
   ]
  },
  {
   "cell_type": "code",
   "execution_count": null,
   "metadata": {},
   "outputs": [],
   "source": [
    "best_array=forward_feature_selection(X_train,y_train)"
   ]
  },
  {
   "cell_type": "code",
   "execution_count": null,
   "metadata": {},
   "outputs": [],
   "source": [
    "feature_names=[]\n",
    "for i in best_array:\n",
    "    feature_names.append(predictors[i])\n",
    "feature_names"
   ]
  },
  {
   "cell_type": "markdown",
   "metadata": {},
   "source": [
    "<p>\n",
    "In the case for the Linear Regression model the ten best predictors are Popularity, Acousticness, Valence, Danceablility, Energy, Explicit, Loudness, Instrumentalness, Tempo,and Speechiness.</p>"
   ]
  },
  {
   "cell_type": "code",
   "execution_count": null,
   "metadata": {},
   "outputs": [],
   "source": [
    "scores = -cross_val_score(linreg, X, y, scoring='neg_mean_squared_error', cv=10)\n",
    "\n",
    "scores.mean()\n",
    "rmse = np.sqrt(scores.mean()).mean()\n",
    "print(rmse)"
   ]
  },
  {
   "cell_type": "markdown",
   "metadata": {},
   "source": [
    "<p>As we can see we get a lower RMSE than the decision tree when we use forward feature selection to find the ten best predictors for the model.</p>"
   ]
  },
  {
   "cell_type": "code",
   "execution_count": null,
   "metadata": {},
   "outputs": [],
   "source": [
    "sns.scatterplot(x=y_predict, y=y_test)"
   ]
  },
  {
   "cell_type": "code",
   "execution_count": null,
   "metadata": {},
   "outputs": [],
   "source": [
    "y_predict.max()"
   ]
  },
  {
   "cell_type": "markdown",
   "metadata": {},
   "source": [
    "### KNN Regressor"
   ]
  },
  {
   "cell_type": "code",
   "execution_count": null,
   "metadata": {},
   "outputs": [],
   "source": [
    "knn = KNeighborsRegressor(n_neighbors=3)\n",
    "knn.fit(X_train, y_train)\n"
   ]
  },
  {
   "cell_type": "code",
   "execution_count": null,
   "metadata": {},
   "outputs": [],
   "source": [
    "y_predict = knn.predict(X_test)\n",
    "errors = y_test - y_predict\n",
    "rmse = np.sqrt(errors**2).mean()"
   ]
  },
  {
   "cell_type": "code",
   "execution_count": null,
   "metadata": {},
   "outputs": [],
   "source": [
    "print('RMSE: {:.2f}'.format(rmse))"
   ]
  },
  {
   "cell_type": "code",
   "execution_count": null,
   "metadata": {},
   "outputs": [],
   "source": [
    "sns.scatterplot(x=y_predict, y=y_test)"
   ]
  },
  {
   "cell_type": "code",
   "execution_count": null,
   "metadata": {},
   "outputs": [],
   "source": [
    "param_grid = {'n_neighbors': np.arange(1, 10)}\n",
    "knn_grid = GridSearchCV(KNeighborsRegressor(), param_grid, cv=5)"
   ]
  },
  {
   "cell_type": "code",
   "execution_count": null,
   "metadata": {},
   "outputs": [],
   "source": [
    "knn_grid.fit(X_train,y_train)"
   ]
  },
  {
   "cell_type": "code",
   "execution_count": null,
   "metadata": {},
   "outputs": [],
   "source": [
    "knn_grid.best_params_"
   ]
  },
  {
   "cell_type": "markdown",
   "metadata": {},
   "source": [
    "<h4>Buidling the Model with the Best Parameters</h4>"
   ]
  },
  {
   "cell_type": "code",
   "execution_count": null,
   "metadata": {},
   "outputs": [],
   "source": [
    "knn2=KNeighborsRegressor(n_neighbors=5)\n",
    "knn2.fit(X_train,y_train)"
   ]
  },
  {
   "cell_type": "code",
   "execution_count": null,
   "metadata": {},
   "outputs": [],
   "source": [
    "y_predict2 = knn2.predict(X_test)\n",
    "errors2 = y_test - y_predict2\n",
    "rmse2 = np.sqrt(errors2**2).mean()"
   ]
  },
  {
   "cell_type": "code",
   "execution_count": null,
   "metadata": {},
   "outputs": [],
   "source": [
    "print('RMSE: {:.2f}'.format(rmse2))"
   ]
  },
  {
   "cell_type": "markdown",
   "metadata": {},
   "source": [
    "<p>Using the grid search we come to the conclusion that the ideal number of neighbors is 5 for this model.</p>"
   ]
  },
  {
   "cell_type": "markdown",
   "metadata": {},
   "source": [
    "### Cluster Analysis"
   ]
  },
  {
   "cell_type": "markdown",
   "metadata": {},
   "source": [
    "Cluster Analysis can show relationships that are not normally apparent in the dataset and help develop models if we were going to continue to refine this one. The only problem is that K-means cluster analysis does not give any meaningful interpretation when it comes to categorical variables so the categorical predictors should be removed for this algorithm. Also the values will be scaled with zscore so that the algorithm has an easier time with clustering, this is mostly because tempo values are not scaled from 0 to 1."
   ]
  },
  {
   "cell_type": "code",
   "execution_count": 49,
   "metadata": {},
   "outputs": [],
   "source": [
    "predictors = ['valence', 'acousticness', 'danceability','instrumentalness', \n",
    "              'speechiness', 'popularity', 'mode', 'tempo']\n",
    "df1 = df[predictors].apply(zscore)\n",
    "X = df1[predictors].values"
   ]
  },
  {
   "cell_type": "code",
   "execution_count": 50,
   "metadata": {
    "scrolled": true
   },
   "outputs": [
    {
     "name": "stdout",
     "output_type": "stream",
     "text": [
      "[[ 0.18449455 -0.37732925  0.34195412 -0.23460428  0.31977455  0.26503448\n",
      "  -1.52586731  0.07872625]\n",
      " [-0.82230072  1.05264322 -0.86839182  0.85927182 -0.25356759 -0.73017906\n",
      "   0.15108481 -0.41524008]\n",
      " [ 0.32704894 -0.35233936  0.27625578 -0.32210625 -0.0226677   0.24285623\n",
      "   0.6409232   0.17193514]]\n"
     ]
    },
    {
     "data": {
      "image/png": "[encoded data removed]",
      "text/plain": [
       "<Figure size 936x576 with 3 Axes>"
      ]
     },
     "metadata": {
      "needs_background": "light"
     },
     "output_type": "display_data"
    }
   ],
   "source": [
    "k = 3\n",
    "kmeans = KMeans(n_clusters=k)\n",
    "kmeans.fit(X)\n",
    "centers = kmeans.cluster_centers_\n",
    "counts = np.bincount(kmeans.labels_)\n",
    "n = len(predictors)\n",
    "print(centers)\n",
    "\n",
    "fix, ax = plt.subplots(k, 1, figsize=(13,8))\n",
    "for i, axi in enumerate(ax.flat):\n",
    "    axi.bar(range(n), centers[i,:])\n",
    "    axi.set_title('number in cluster: {}'.format(counts[i]))\n",
    "    axi.set_ylim(0, 1)\n",
    "    axi.set_xticks(range(n))\n",
    "    axi.set_xticklabels(df1.columns[:n])\n",
    "plt.tight_layout()\n"
   ]
  },
  {
   "cell_type": "markdown",
   "metadata": {},
   "source": [
    "<p></p>"
   ]
  },
  {
   "cell_type": "markdown",
   "metadata": {},
   "source": [
    "### Conclusion"
   ]
  },
  {
   "cell_type": "markdown",
   "metadata": {},
   "source": [
    "<p>After trying out three different machine learning, we can conclude that in terms of predicting the decade in which a song was released, linear regresssion yielded the closest predictions. After applying feature selection to the models, linear regression yielded the lowest Root Mean Square Error. Using Popularity, Acousticness, Valence, Danceablility, Energy, Loudness, Instrumentalness, Tempo, and Speechiness as the predictors. Looking at the cluster analysis we can see with the three clusters vary greatly in size. The largest being 60496 and the smallest being 23970. Looking to at the distance from the center for each attribute we can see that most are grouped close to the center but in the explicit and liveness areas deviated the most from the cluster center. There is something interesting to take away from this exploration though. Looking at the RMSE values they are all pretty close to 10 (a little higher usually) which could mean it takes on average 10 years before there is any noticable change in musical style.</p>"
   ]
  },
  {
   "cell_type": "code",
   "execution_count": 45,
   "metadata": {},
   "outputs": [
    {
     "data": {
      "text/plain": [
       "0.000      107\n",
       "120.012     19\n",
       "120.000     19\n",
       "94.997      19\n",
       "128.005     18\n",
       "          ... \n",
       "167.847      1\n",
       "101.790      1\n",
       "155.686      1\n",
       "150.818      1\n",
       "111.439      1\n",
       "Name: tempo, Length: 76106, dtype: int64"
      ]
     },
     "execution_count": 45,
     "metadata": {},
     "output_type": "execute_result"
    }
   ],
   "source": []
  },
  {
   "cell_type": "code",
   "execution_count": null,
   "metadata": {},
   "outputs": [],
   "source": []
  }
 ],
 "metadata": {
  "kernelspec": {
   "display_name": "Python 3",
   "language": "python",
   "name": "python3"
  },
  "language_info": {
   "codemirror_mode": {
    "name": "ipython",
    "version": 3
   },
   "file_extension": ".py",
   "mimetype": "text/x-python",
   "name": "python",
   "nbconvert_exporter": "python",
   "pygments_lexer": "ipython3",
   "version": "3.6.10"
  }
 },
 "nbformat": 4,
 "nbformat_minor": 4
}
